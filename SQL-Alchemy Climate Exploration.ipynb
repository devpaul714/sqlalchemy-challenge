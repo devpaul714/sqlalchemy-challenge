{
 "cells": [
  {
   "cell_type": "code",
   "execution_count": null,
   "id": "32eb5fce",
   "metadata": {},
   "outputs": [],
   "source": [
    "%matplotlib inline\n",
    "from matplotlib import style\n",
    "style.use('fivethirtyeight')\n",
    "import matplotlib.pyplot as plt"
   ]
  },
  {
   "cell_type": "code",
   "execution_count": null,
   "id": "3e5e1028",
   "metadata": {},
   "outputs": [],
   "source": [
    "import numpy as np\n",
    "import pandas as pd\n",
    "import datetime as dt"
   ]
  },
  {
   "cell_type": "code",
   "execution_count": null,
   "id": "72d8079d",
   "metadata": {},
   "outputs": [],
   "source": [
    "import sqlalchemy\n",
    "from sqlalchemy.ext.automap import automap_base\n",
    "from sqlalchemy.orm import Session\n",
    "from sqlalchemy import create_engine, func"
   ]
  },
  {
   "cell_type": "code",
   "execution_count": null,
   "id": "2ea71512",
   "metadata": {},
   "outputs": [],
   "source": [
    "engine = create_engine(\"sqlite:///hawaii.sqlite\")"
   ]
  },
  {
   "cell_type": "code",
   "execution_count": null,
   "id": "43ac6e5e",
   "metadata": {},
   "outputs": [],
   "source": [
    "Base = automap_base()\n",
    "Base.prepare(engine, reflect=True)"
   ]
  },
  {
   "cell_type": "code",
   "execution_count": null,
   "id": "133db918",
   "metadata": {},
   "outputs": [],
   "source": [
    "Base.classes.keys()"
   ]
  },
  {
   "cell_type": "code",
   "execution_count": null,
   "id": "8488875b",
   "metadata": {},
   "outputs": [],
   "source": [
    "Measurement = Base.classes.measurement\n",
    "Station = Base.classes.station"
   ]
  },
  {
   "cell_type": "code",
   "execution_count": null,
   "id": "7e31db54",
   "metadata": {},
   "outputs": [],
   "source": [
    "session = Session(engine)"
   ]
  },
  {
   "cell_type": "code",
   "execution_count": null,
   "id": "b7667349",
   "metadata": {},
   "outputs": [],
   "source": [
    "from sqlalchemy import inspect"
   ]
  },
  {
   "cell_type": "code",
   "execution_count": null,
   "id": "156e6f02",
   "metadata": {},
   "outputs": [],
   "source": [
    "inspector = inspect(engine)\n",
    "inspector.get_table_names()"
   ]
  },
  {
   "cell_type": "code",
   "execution_count": null,
   "id": "48c37bc6",
   "metadata": {},
   "outputs": [],
   "source": [
    "columns = inspector.get_columns('measurement')\n",
    "for c in columns:\n",
    "    print(c['name'], c[\"type\"])"
   ]
  },
  {
   "cell_type": "code",
   "execution_count": null,
   "id": "9c14c8df",
   "metadata": {},
   "outputs": [],
   "source": [
    "columns = inspector.get_columns('station')\n",
    "for c in columns:\n",
    "    print(c['name'], c[\"type\"])"
   ]
  },
  {
   "cell_type": "code",
   "execution_count": null,
   "id": "52871469",
   "metadata": {},
   "outputs": [],
   "source": [
    "latest_dt =session.query(Measurement.date).order_by(Measurement.date.desc()).first()\n",
    "print(\"Latest date in database: \" , latest_dt)\n",
    "\n",
    "year_ago = dt.date(2017, 8, 23) - dt.timedelta(days = 365)\n",
    "print(\"Date one year ago is: \", year_ago)"
   ]
  },
  {
   "cell_type": "code",
   "execution_count": null,
   "id": "048c5053",
   "metadata": {},
   "outputs": [],
   "source": [
    "m_prcp = session.query(Measurement.prcp , Measurement.date).\\\n",
    "    filter(Measurement.date > '2016-08-23').\\\n",
    "    order_by(Measurement.date).all()\n",
    "m_prcp"
   ]
  },
  {
   "cell_type": "code",
   "execution_count": null,
   "id": "82cc0c29",
   "metadata": {},
   "outputs": [],
   "source": [
    "df = pd.DataFrame(m_prcp, columns = ['Precipitation', 'Dates'])\n",
    "df.set_index('Dates')\n",
    "\n",
    "df_dates = df.sort_values(by = 'Dates')\n",
    "\n",
    "df_dates.plot(figsize=(20,10))\n",
    "\n",
    "df_dates.plot(x = 'Dates' , grid = True)\n",
    "\n",
    "plt.title(\"Bar plots showing the precipitaion recorded at all stations in 12 months\" , size = 20)\n",
    "plt.show()"
   ]
  },
  {
   "cell_type": "code",
   "execution_count": null,
   "id": "52659593",
   "metadata": {},
   "outputs": [],
   "source": [
    "df_dates.describe()"
   ]
  },
  {
   "cell_type": "code",
   "execution_count": null,
   "id": "60e754bd",
   "metadata": {},
   "outputs": [],
   "source": [
    "station_m = session.query(func.count(Measurement.station)).all()\n",
    "station_m"
   ]
  },
  {
   "cell_type": "code",
   "execution_count": null,
   "id": "8cb74b4c",
   "metadata": {},
   "outputs": [],
   "source": [
    "max_stations = session.query( Measurement.station , func.count(Measurement.station)).group_by( Measurement.station ).\\\n",
    "               order_by(func.count(Measurement.station).desc()).all()\n",
    "\n",
    "max_stations\n"
   ]
  },
  {
   "cell_type": "code",
   "execution_count": null,
   "id": "b3e39a34",
   "metadata": {},
   "outputs": [],
   "source": [
    "temp_active_station = session.query(func.min(Measurement.tobs), func.max(Measurement.tobs),\\\n",
    "                      func.avg(Measurement.tobs)).\\\n",
    "                      filter(Measurement.station == 'USC00519281' ).all()\n",
    "\n",
    "\n",
    "print(\"The Minimum ,Maximum and Average Temp for the most active station is :\" , temp_active_station)"
   ]
  },
  {
   "cell_type": "code",
   "execution_count": null,
   "id": "3b96dc67",
   "metadata": {},
   "outputs": [],
   "source": [
    "last_dt = session.query (Measurement.date).filter(Measurement.station == 'USC00519281').\\\n",
    "          order_by(Measurement.date.desc()).first()\n",
    "print(\"Latest date for station 'USC00519281' is: \" , last_dt )\n",
    "\n",
    "\n",
    "year_ago3 = dt.date(2017, 8, 18) - dt.timedelta(days = 365)\n",
    "print(\"Date one year ago is: \", year_ago3 )"
   ]
  },
  {
   "cell_type": "code",
   "execution_count": null,
   "id": "d7667dcc",
   "metadata": {},
   "outputs": [],
   "source": [
    "resultss =  session.query(Measurement.tobs).\\\n",
    "                          filter(Measurement.station == 'USC00519281' ).\\\n",
    "                          filter(Measurement.date >= '2017,8,23').all()\n",
    "\n",
    "resultss"
   ]
  },
  {
   "cell_type": "code",
   "execution_count": null,
   "id": "2a722523",
   "metadata": {},
   "outputs": [],
   "source": [
    "df3 = pd.DataFrame(resultss , columns = ['Tobs'])\n",
    "\n",
    "\n",
    "df3.hist( bins = 12)\n",
    "\n",
    "plt.ylabel(\"Frequency\", fontsize = 15)\n",
    "plt.title(\"Temperatures observed for station 'USC00519281' in the last 12 months from the latest recorded temp\" ,\n",
    "           size = 20)\n",
    "labels = [\"Tobs\"]\n",
    "plt.legend(labels)\n",
    "\n",
    "\n",
    "plt.show()"
   ]
  }
 ],
 "metadata": {
  "kernelspec": {
   "display_name": "Python 3 (ipykernel)",
   "language": "python",
   "name": "python3"
  },
  "language_info": {
   "codemirror_mode": {
    "name": "ipython",
    "version": 3
   },
   "file_extension": ".py",
   "mimetype": "text/x-python",
   "name": "python",
   "nbconvert_exporter": "python",
   "pygments_lexer": "ipython3",
   "version": "3.10.9"
  }
 },
 "nbformat": 4,
 "nbformat_minor": 5
}
